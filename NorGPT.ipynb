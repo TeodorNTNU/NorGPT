{
 "cells": [
  {
   "cell_type": "code",
   "execution_count": 1,
   "metadata": {},
   "outputs": [
    {
     "data": {
      "text/plain": [
       "True"
      ]
     },
     "execution_count": 1,
     "metadata": {},
     "output_type": "execute_result"
    }
   ],
   "source": [
    "from dotenv import load_dotenv\n",
    "import os\n",
    "from huggingface_hub import login\n",
    "\n",
    "load_dotenv()\n",
    "\n"
   ]
  },
  {
   "cell_type": "code",
   "execution_count": 2,
   "metadata": {},
   "outputs": [
    {
     "name": "stdout",
     "output_type": "stream",
     "text": [
      "The token has not been saved to the git credentials helper. Pass `add_to_git_credential=True` in this function directly or `--add-to-git-credential` if using via `huggingface-cli` if you want to set the git credential as well.\n",
      "Token is valid (permission: fineGrained).\n",
      "Your token has been saved to /home/teodorrk/.cache/huggingface/token\n",
      "Login successful\n"
     ]
    }
   ],
   "source": [
    "HUGGING_FACE_TOKEN = os.getenv(\"HUGGING_FACE_TOKEN\")\n",
    "\n",
    "# Authenticate\n",
    "login(token=HUGGING_FACE_TOKEN)"
   ]
  },
  {
   "cell_type": "code",
   "execution_count": 3,
   "metadata": {},
   "outputs": [],
   "source": [
    "from peft import PeftModel, PeftConfig\n",
    "from transformers import AutoModelForCausalLM, AutoTokenizer\n",
    "import torch\n",
    "from tqdm.auto import tqdm\n",
    "\n",
    "\n",
    "source_model_id = \"Basemodel_369M/pytorch_model_1.bin\"\n",
    "peft_model_id = \"Convmodel_369M/adapter_model_1.bin\""
   ]
  },
  {
   "cell_type": "code",
   "execution_count": 7,
   "metadata": {},
   "outputs": [
    {
     "data": {
      "text/plain": [
       "PeftModel(\n",
       "  (base_model): LoraModel(\n",
       "    (model): GPT2LMHeadModel(\n",
       "      (transformer): GPT2Model(\n",
       "        (wte): Embedding(64000, 1024)\n",
       "        (wpe): Embedding(2048, 1024)\n",
       "        (drop): Dropout(p=0.1, inplace=False)\n",
       "        (h): ModuleList(\n",
       "          (0-23): 24 x GPT2Block(\n",
       "            (ln_1): LayerNorm((1024,), eps=1e-05, elementwise_affine=True)\n",
       "            (attn): GPT2Attention(\n",
       "              (c_attn): lora.Linear(\n",
       "                (base_layer): Conv1D()\n",
       "                (lora_dropout): ModuleDict(\n",
       "                  (default): Dropout(p=0.05, inplace=False)\n",
       "                )\n",
       "                (lora_A): ModuleDict(\n",
       "                  (default): Linear(in_features=1024, out_features=16, bias=False)\n",
       "                )\n",
       "                (lora_B): ModuleDict(\n",
       "                  (default): Linear(in_features=16, out_features=3072, bias=False)\n",
       "                )\n",
       "                (lora_embedding_A): ParameterDict()\n",
       "                (lora_embedding_B): ParameterDict()\n",
       "              )\n",
       "              (c_proj): Conv1D()\n",
       "              (attn_dropout): Dropout(p=0.1, inplace=False)\n",
       "              (resid_dropout): Dropout(p=0.1, inplace=False)\n",
       "            )\n",
       "            (ln_2): LayerNorm((1024,), eps=1e-05, elementwise_affine=True)\n",
       "            (mlp): GPT2MLP(\n",
       "              (c_fc): Conv1D()\n",
       "              (c_proj): Conv1D()\n",
       "              (act): FastGELUActivation()\n",
       "              (dropout): Dropout(p=0.1, inplace=False)\n",
       "            )\n",
       "          )\n",
       "        )\n",
       "        (ln_f): LayerNorm((1024,), eps=1e-05, elementwise_affine=True)\n",
       "      )\n",
       "      (lm_head): Linear(in_features=1024, out_features=64000, bias=False)\n",
       "    )\n",
       "  )\n",
       ")"
      ]
     },
     "execution_count": 7,
     "metadata": {},
     "output_type": "execute_result"
    }
   ],
   "source": [
    "import json\n",
    "import torch\n",
    "from transformers import AutoTokenizer, AutoModelForCausalLM\n",
    "from peft import LoraConfig, PeftModel\n",
    "\n",
    "# Paths to your model and adapter files\n",
    "base_model_path = \"./Basemodel_369M\"\n",
    "adapter_model_path = \"./Convmodel_369M/adapter_model.bin\"\n",
    "adapter_config_path = \"./Convmodel_369M/adapter_config.json\"\n",
    "\n",
    "# Load the base model and tokenizer from local files\n",
    "model = AutoModelForCausalLM.from_pretrained(base_model_path, local_files_only=True)\n",
    "tokenizer = AutoTokenizer.from_pretrained(base_model_path, local_files_only=True)\n",
    "\n",
    "# Load the adapter configuration directly from the local JSON file\n",
    "with open(adapter_config_path, 'r') as f:\n",
    "    adapter_config_dict = json.load(f)\n",
    "\n",
    "# Instantiate the LoraConfig object\n",
    "lora_config = LoraConfig(**adapter_config_dict)\n",
    "\n",
    "# Load the adapter model using the configuration\n",
    "model = PeftModel(model, lora_config)\n",
    "\n",
    "# Manually load the adapter weights\n",
    "adapter_weights = torch.load(adapter_model_path, map_location=\"cpu\")\n",
    "model.load_state_dict(adapter_weights, strict=False)\n",
    "\n",
    "# Move model to GPU if available\n",
    "device = torch.device(\"cuda\" if torch.cuda.is_available() else \"cpu\")\n",
    "model.to(device)"
   ]
  },
  {
   "cell_type": "code",
   "execution_count": null,
   "metadata": {},
   "outputs": [],
   "source": [
    "## Prepare input\n",
    "#input_text = \"Once upon a time\"\n",
    "#inputs = tokenizer(input_text, return_tensors=\"pt\").to(device)\n",
    "#\n",
    "## Generate text with adjusted parameters\n",
    "#outputs = model.generate(\n",
    "#    **inputs,\n",
    "#    max_length=200,  # Adjust maximum length of generated text\n",
    "#    num_return_sequences=1,  # Number of sequences to return\n",
    "#    #temperature=0.7,  # Sampling temperature\n",
    "#    #top_p=0.2,  # Top-p (nucleus) sampling\n",
    "#    #top_k=50,  # Top-k sampling\n",
    "#    do_sample=True,  # Whether to use sampling\n",
    "#    pad_token_id=tokenizer.eos_token_id  # Ensure pad_token_id is set\n",
    "#)\n",
    "#\n",
    "#generated_text = tokenizer.decode(outputs[0], skip_special_tokens=True)\n",
    "#\n",
    "#print(generated_text)"
   ]
  },
  {
   "cell_type": "code",
   "execution_count": 27,
   "metadata": {},
   "outputs": [],
   "source": [
    "import matplotlib.pyplot as plt\n",
    "import numpy as np\n",
    "\n",
    "def execute_plot_code(plot_code: str):\n",
    "    try:\n",
    "        exec(plot_code)\n",
    "    except Exception as e:\n",
    "        print(f\"Error executing plot code: {e}\")\n",
    "\n",
    "def generate_plot(user_input: str):\n",
    "    # Prepare the prompt for the model with an example\n",
    "    prompt = f\"\"\"Generate a Python code snippet to {user_input} using matplotlib for plotting.\n",
    "Example:\n",
    "<code>\n",
    "import matplotlib.pyplot as plt\n",
    "import numpy as np\n",
    "\n",
    "x = np.linspace(0, 2 * np.pi, 100)\n",
    "y = np.sin(x)\n",
    "\n",
    "plt.plot(x, y)\n",
    "plt.xlabel('x')\n",
    "plt.ylabel('sin(x)')\n",
    "plt.title('Sine Wave')\n",
    "plt.grid(True)\n",
    "plt.show()\n",
    "</code>\n",
    "Now generate the code:\n",
    "<code>\n",
    "\"\"\"\n",
    "\n",
    "    # Encode the input and generate code\n",
    "    inputs = tokenizer(prompt, return_tensors='pt').to(device)\n",
    "    attention_mask = inputs.attention_mask.to(device)\n",
    "    outputs = model.generate(inputs.input_ids, \n",
    "                             attention_mask=attention_mask, \n",
    "                             max_length=200, \n",
    "                             num_return_sequences=1, \n",
    "                             temperature=0.7, \n",
    "                             do_sample=True,\n",
    "                             top_p=0.9,\n",
    "                             pad_token_id=tokenizer.eos_token_id\n",
    "                             )\n",
    "    generated_text = tokenizer.decode(outputs[0], skip_special_tokens=True)\n",
    "    \n",
    "    # Extract the code between <code> and </code>\n",
    "    start_tag = \"<code>\"\n",
    "    end_tag = \"</code>\"\n",
    "    start_index = generated_text.find(start_tag) + len(start_tag)\n",
    "    end_index = generated_text.find(end_tag)\n",
    "    plot_code = generated_text[start_index:end_index].strip()\n",
    "    \n",
    "    # Print the generated code\n",
    "    print(\"Generated Code:\\n\", plot_code)\n",
    "    \n",
    "    # Execute the generated code\n",
    "    execute_plot_code(plot_code)\n",
    "\n",
    "    # Show the plot\n",
    "    plt.show()\n",
    "\n"
   ]
  },
  {
   "cell_type": "code",
   "execution_count": 28,
   "metadata": {},
   "outputs": [],
   "source": [
    "def generate_text_response(user_input: str):\n",
    "    # Prepare the prompt for the model with examples\n",
    "    prompt = f\"\"\"Answer the following question:\n",
    "Q: What is the capital of France?\n",
    "A: The capital of France is Paris.\n",
    "\n",
    "Q: What is the largest planet in our solar system?\n",
    "A: The largest planet in our solar system is Jupiter.\n",
    "\n",
    "Q: Explain the significance of the sine wave in signal processing.\n",
    "A: The sine wave is fundamental in signal processing because it represents a pure frequency. It's used in Fourier analysis to decompose complex signals into simpler components.\n",
    "\n",
    "Q: {user_input}\n",
    "A:\"\"\"\n",
    "\n",
    "    # Encode the input and generate text\n",
    "    inputs = tokenizer(prompt, return_tensors='pt').to(device)\n",
    "    attention_mask = inputs.attention_mask.to(device)\n",
    "    outputs = model.generate(inputs.input_ids, \n",
    "                             attention_mask=attention_mask, \n",
    "                             max_length=200, \n",
    "                             num_return_sequences=1, \n",
    "                             temperature=0.7, \n",
    "                             do_sample=True,\n",
    "                             pad_token_id=tokenizer.eos_token_id\n",
    "                             )\n",
    "    generated_text = tokenizer.decode(outputs[0], skip_special_tokens=True)\n",
    "    \n",
    "    # Print the generated text response\n",
    "    print(\"Generated Text:\\n\", generated_text)\n",
    "    return generated_text\n"
   ]
  },
  {
   "cell_type": "code",
   "execution_count": 29,
   "metadata": {},
   "outputs": [],
   "source": [
    "def handle_user_input(user_input: str):\n",
    "    if \"plot\" in user_input.lower():\n",
    "        generate_plot(user_input)\n",
    "    else:\n",
    "        response = generate_text_response(user_input)\n",
    "        print(response)\n"
   ]
  },
  {
   "cell_type": "code",
   "execution_count": 30,
   "metadata": {},
   "outputs": [
    {
     "name": "stdout",
     "output_type": "stream",
     "text": [
      "Generated Code:\n",
      " import matplotlib.pyplot as plt\n",
      "import numpy as np\n",
      "\n",
      "x = np.linspace(0, 2 * np.pi, 100)\n",
      "y = np.sin(x)\n",
      "\n",
      "plt.plot(x, y)\n",
      "plt.xlabel('x')\n",
      "plt.ylabel('sin(x)')\n",
      "plt.title('Sine Wave')\n",
      "plt.grid(True)\n",
      "plt.show()\n"
     ]
    },
    {
     "data": {
      "image/png": "[encoded data removed]",
      "text/plain": [
       "<Figure size 640x480 with 1 Axes>"
      ]
     },
     "metadata": {},
     "output_type": "display_data"
    },
    {
     "name": "stdout",
     "output_type": "stream",
     "text": [
      "Generated Text:\n",
      " Answer the following question:\n",
      "Q: What is the capital of France?\n",
      "A: The capital of France is Paris.\n",
      "\n",
      "Q: What is the largest planet in our solar system?\n",
      "A: The largest planet in our solar system is Jupiter.\n",
      "\n",
      "Q: Explain the significance of the sine wave in signal processing.\n",
      "A: The sine wave is fundamental in signal processing because it represents a pure frequency. It's used in Fourier analysis to decompose complex signals into simpler components.\n",
      "\n",
      "Q: Explain the significance of the sine wave in signal processing\n",
      "A: The sin wave is fundamental in signal processing because it represents a pure frequency. It's used in Fourier analysis to decompose complex signals into simpler components. Üblicherweise wird ein Gleichgewichtskern in der Regel im Bereich der Zeiträume von 10 bis 25 Jahren in der Regel der Gleichgewichtskern verwendet. Voraussetzung dafür ist allerdings ein gleichmäß\n",
      "Answer the following question:\n",
      "Q: What is the capital of France?\n",
      "A: The capital of France is Paris.\n",
      "\n",
      "Q: What is the largest planet in our solar system?\n",
      "A: The largest planet in our solar system is Jupiter.\n",
      "\n",
      "Q: Explain the significance of the sine wave in signal processing.\n",
      "A: The sine wave is fundamental in signal processing because it represents a pure frequency. It's used in Fourier analysis to decompose complex signals into simpler components.\n",
      "\n",
      "Q: Explain the significance of the sine wave in signal processing\n",
      "A: The sin wave is fundamental in signal processing because it represents a pure frequency. It's used in Fourier analysis to decompose complex signals into simpler components. Üblicherweise wird ein Gleichgewichtskern in der Regel im Bereich der Zeiträume von 10 bis 25 Jahren in der Regel der Gleichgewichtskern verwendet. Voraussetzung dafür ist allerdings ein gleichmäß\n"
     ]
    }
   ],
   "source": [
    "# Example user inputs\n",
    "plot_input = \"plot a sine wave with x ranging from 0 to 2*pi\"\n",
    "text_input = \"Explain the significance of the sine wave in signal processing\"\n",
    "\n",
    "handle_user_input(plot_input)\n",
    "handle_user_input(text_input)"
   ]
  }
 ],
 "metadata": {
  "kernelspec": {
   "display_name": ".myvenv",
   "language": "python",
   "name": "python3"
  },
  "language_info": {
   "codemirror_mode": {
    "name": "ipython",
    "version": 3
   },
   "file_extension": ".py",
   "mimetype": "text/x-python",
   "name": "python",
   "nbconvert_exporter": "python",
   "pygments_lexer": "ipython3",
   "version": "3.11.9"
  }
 },
 "nbformat": 4,
 "nbformat_minor": 2
}
