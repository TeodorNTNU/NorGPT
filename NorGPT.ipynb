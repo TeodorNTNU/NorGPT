{
 "cells": [
  {
   "cell_type": "code",
   "execution_count": 2,
   "metadata": {},
   "outputs": [
    {
     "data": {
      "text/plain": [
       "True"
      ]
     },
     "execution_count": 2,
     "metadata": {},
     "output_type": "execute_result"
    }
   ],
   "source": [
    "from dotenv import load_dotenv\n",
    "import os\n",
    "from huggingface_hub import login\n",
    "\n",
    "load_dotenv()\n",
    "\n"
   ]
  },
  {
   "cell_type": "code",
   "execution_count": 3,
   "metadata": {},
   "outputs": [
    {
     "name": "stdout",
     "output_type": "stream",
     "text": [
      "The token has not been saved to the git credentials helper. Pass `add_to_git_credential=True` in this function directly or `--add-to-git-credential` if using via `huggingface-cli` if you want to set the git credential as well.\n",
      "Token is valid (permission: fineGrained).\n",
      "Your token has been saved to /home/teodorrk/.cache/huggingface/token\n",
      "Login successful\n"
     ]
    }
   ],
   "source": [
    "HUGGING_FACE_TOKEN = os.getenv(\"HUGGING_FACE_TOKEN\")\n",
    "\n",
    "# Authenticate\n",
    "login(token=HUGGING_FACE_TOKEN)"
   ]
  },
  {
   "cell_type": "code",
   "execution_count": 4,
   "metadata": {},
   "outputs": [],
   "source": [
    "from peft import PeftModel, PeftConfig\n",
    "from transformers import AutoModelForCausalLM, AutoTokenizer\n",
    "import torch\n",
    "from tqdm.auto import tqdm\n",
    "\n",
    "\n",
    "source_model_id = \"Basemodel_369M/pytorch_model_1.bin\"\n",
    "peft_model_id = \"Convmodel_369M/adapter_model_1.bin\""
   ]
  },
  {
   "cell_type": "code",
   "execution_count": 1,
   "metadata": {},
   "outputs": [
    {
     "data": {
      "text/plain": [
       "PeftModel(\n",
       "  (base_model): LoraModel(\n",
       "    (model): GPT2LMHeadModel(\n",
       "      (transformer): GPT2Model(\n",
       "        (wte): Embedding(64000, 1024)\n",
       "        (wpe): Embedding(2048, 1024)\n",
       "        (drop): Dropout(p=0.1, inplace=False)\n",
       "        (h): ModuleList(\n",
       "          (0-23): 24 x GPT2Block(\n",
       "            (ln_1): LayerNorm((1024,), eps=1e-05, elementwise_affine=True)\n",
       "            (attn): GPT2Attention(\n",
       "              (c_attn): lora.Linear(\n",
       "                (base_layer): Conv1D()\n",
       "                (lora_dropout): ModuleDict(\n",
       "                  (default): Dropout(p=0.05, inplace=False)\n",
       "                )\n",
       "                (lora_A): ModuleDict(\n",
       "                  (default): Linear(in_features=1024, out_features=16, bias=False)\n",
       "                )\n",
       "                (lora_B): ModuleDict(\n",
       "                  (default): Linear(in_features=16, out_features=3072, bias=False)\n",
       "                )\n",
       "                (lora_embedding_A): ParameterDict()\n",
       "                (lora_embedding_B): ParameterDict()\n",
       "              )\n",
       "              (c_proj): Conv1D()\n",
       "              (attn_dropout): Dropout(p=0.1, inplace=False)\n",
       "              (resid_dropout): Dropout(p=0.1, inplace=False)\n",
       "            )\n",
       "            (ln_2): LayerNorm((1024,), eps=1e-05, elementwise_affine=True)\n",
       "            (mlp): GPT2MLP(\n",
       "              (c_fc): Conv1D()\n",
       "              (c_proj): Conv1D()\n",
       "              (act): FastGELUActivation()\n",
       "              (dropout): Dropout(p=0.1, inplace=False)\n",
       "            )\n",
       "          )\n",
       "        )\n",
       "        (ln_f): LayerNorm((1024,), eps=1e-05, elementwise_affine=True)\n",
       "      )\n",
       "      (lm_head): Linear(in_features=1024, out_features=64000, bias=False)\n",
       "    )\n",
       "  )\n",
       ")"
      ]
     },
     "execution_count": 1,
     "metadata": {},
     "output_type": "execute_result"
    }
   ],
   "source": [
    "import json\n",
    "import torch\n",
    "from transformers import AutoTokenizer, AutoModelForCausalLM\n",
    "from peft import LoraConfig, PeftModel\n",
    "\n",
    "# Paths to your model and adapter files\n",
    "base_model_path = \"./Basemodel_369M\"\n",
    "conv_adapter_model = \"./Convmodel_369M/adapter_model.bin\"\n",
    "conv_adapter_config = \"./Convmodel_369M/adapter_config.json\"\n",
    "inst_adapter_model = \"./Instmodel_369M/adapter_model.bin\"\n",
    "inst_adapter_config = \"./Instmodel_369M/adapter_config.json\"\n",
    "\n",
    "\n",
    "# Load the base model and tokenizer from local files\n",
    "model = AutoModelForCausalLM.from_pretrained(base_model_path, local_files_only=True)\n",
    "tokenizer = AutoTokenizer.from_pretrained(base_model_path, local_files_only=True)\n",
    "\n",
    "# Load the adapter configuration directly from the local JSON file\n",
    "with open(inst_adapter_config, 'r') as f:\n",
    "    adapter_config_dict = json.load(f)\n",
    "\n",
    "# Instantiate the LoraConfig object\n",
    "lora_config = LoraConfig(**adapter_config_dict)\n",
    "\n",
    "# Load the adapter model using the configuration\n",
    "model = PeftModel(model, lora_config)\n",
    "\n",
    "# Manually load the adapter weights\n",
    "adapter_weights = torch.load(inst_adapter_model, map_location=\"cpu\")\n",
    "model.load_state_dict(adapter_weights, strict=False)\n",
    "\n",
    "# Move model to GPU if available\n",
    "device = torch.device(\"cuda\" if torch.cuda.is_available() else \"cpu\")\n",
    "model.to(device)"
   ]
  },
  {
   "cell_type": "code",
   "execution_count": 2,
   "metadata": {},
   "outputs": [
    {
     "name": "stdout",
     "output_type": "stream",
     "text": [
      "Forklar fourier analyse og forklar hvordan dette kan virke på en gitt trekant.\n"
     ]
    }
   ],
   "source": [
    "# Prepare input\n",
    "input_text = \"Forklar fourier analyse\"\n",
    "inputs = tokenizer(input_text, return_tensors=\"pt\").to(device)\n",
    "\n",
    "# Generate text with adjusted parameters\n",
    "outputs = model.generate(\n",
    "    **inputs,\n",
    "    max_length=200,  # Adjust maximum length of generated text\n",
    "    num_return_sequences=1,  # Number of sequences to return\n",
    "    #temperature=0.7,  # Sampling temperature\n",
    "    #top_p=0.2,  # Top-p (nucleus) sampling\n",
    "    #top_k=50,  # Top-k sampling\n",
    "    do_sample=True,  # Whether to use sampling\n",
    "    pad_token_id=tokenizer.eos_token_id  # Ensure pad_token_id is set\n",
    ")\n",
    "\n",
    "generated_text = tokenizer.decode(outputs[0], skip_special_tokens=True)\n",
    "\n",
    "print(generated_text)"
   ]
  }
 ],
 "metadata": {
  "kernelspec": {
   "display_name": ".myvenv",
   "language": "python",
   "name": "python3"
  },
  "language_info": {
   "codemirror_mode": {
    "name": "ipython",
    "version": 3
   },
   "file_extension": ".py",
   "mimetype": "text/x-python",
   "name": "python",
   "nbconvert_exporter": "python",
   "pygments_lexer": "ipython3",
   "version": "3.11.9"
  }
 },
 "nbformat": 4,
 "nbformat_minor": 2
}
